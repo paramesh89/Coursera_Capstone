{
 "cells": [
  {
   "cell_type": "markdown",
   "metadata": {},
   "source": [
    "# Coursera Capstone Project\n",
    "\n",
    "## The Battle of Neighborhoods (Week 1)\n"
   ]
  },
  {
   "cell_type": "markdown",
   "metadata": {},
   "source": [
    "### Parameswaran Periaswamy"
   ]
  },
  {
   "cell_type": "code",
   "execution_count": 1,
   "metadata": {},
   "outputs": [
    {
     "name": "stdout",
     "output_type": "stream",
     "text": [
      "Collecting package metadata: done\n",
      "Solving environment: done\n",
      "\n",
      "# All requested packages already installed.\n",
      "\n",
      "Libraries imported.\n"
     ]
    }
   ],
   "source": [
    "import numpy as np # library to handle data in a vectorized manner\n",
    "import time\n",
    "import pandas as pd # library for data analsysis\n",
    "pd.set_option('display.max_columns', None)\n",
    "pd.set_option('display.max_rows', None)\n",
    "\n",
    "import json # library to handle JSON files\n",
    "import requests # library to handle requests\n",
    "from pandas.io.json import json_normalize # tranform JSON file into a pandas dataframe\n",
    "\n",
    "from geopy.geocoders import Nominatim # convert an address into latitude and longitude values\n",
    "!conda install -c conda-forge folium=0.5.0 --yes # uncomment this line if you haven't completed the Foursquare API lab\n",
    "import folium # map rendering library\n",
    "\n",
    "print('Libraries imported.')"
   ]
  },
  {
   "cell_type": "markdown",
   "metadata": {},
   "source": [
    "### Coursera Capstone - REPORT CONTENT\n",
    "\n",
    "1.\tIntroduction Section : \n",
    "\t⁃\tDiscussion of the business problem and the interested audience in this project.\n",
    "2.\tData Section:  \n",
    "\t⁃\t Description of the data that will be used to solve the problem and the sources.\n",
    "3.\tMethodology section \n",
    "\t⁃\tDiscussion and description of exploratory data analysis carried out, any inferential statistical testing performed, and if any machine learnings were used establishing the strategy and purposes.\n",
    "4.\tResults section \n",
    "\t⁃\tDiscussion of the results.\n",
    "5.\tDiscussion section \n",
    "\t⁃\tElaboration and discussion on any observations noted and any recommendations suggested based on the results.\n",
    "6.\tConclusion section \n",
    "\t⁃\tReport Conclusion."
   ]
  },
  {
   "cell_type": "markdown",
   "metadata": {},
   "source": [
    "# 1.\tIntroduction Section : \n",
    "### Discussion of the business problem and the audience who would be interested in this project.\n"
   ]
  },
  {
   "cell_type": "markdown",
   "metadata": {},
   "source": [
    "### Description of the Problem and Background\n",
    "\n",
    "### Scenario:\n",
    "\n",
    "I am a data scientist residing in Bangalore India. \n",
    "I currently live within walking distance to MG Road metro station and I enjoy many ammenities and venues in the area, such as various international cusine restaurants, cafes, food shops and entertainment.\n",
    "I have been offered a great opportunity to work for a leader firm in Manhattan, NY. I am very excited and I want to use this opportunity to practice my learnings in Coursera in order to answer relevant questions arisen.\n",
    "The key question is :  How can I find a convenient and enjoyable place similar to mine now in India?\n",
    "Certainly, I can use available real estate apps and Google but the idea is to use and apply myself the learned tools during the course.\n",
    "In order to make a comparison and evaluation of the rental options in Manhattan NY, I must set some basis, therefore the apartment in Manhattan must meet the following demands:\n",
    " - apartment must be 2 or 3 bedrooms\n",
    " - desired location is near a metro station in the Manhattan area and within 1.0 mile (1.6 km) radius\n",
    " - price of rent not exceed $2,500 per month\n",
    " - top ammenities in the selected neighborhood shall be similar to current residence\n",
    " - desirable to have venues such as coffee shops, restaurants Indian, wine stores, gym and food shops\n",
    " - as a reference, I have included a map of venues near current residence in India.\n",
    "    "
   ]
  },
  {
   "cell_type": "markdown",
   "metadata": {},
   "source": [
    "### Business Problem:   \n",
    "The challenge is to find a suitable apartment for rent in Manhattan NY that complies with the demands on location, price and venues. The data required to resolve this challenge is described in the following section 2, below.\n",
    "\n",
    "\n",
    "### Interested Audience\n",
    "I believe this is a relevant challenge with valid questions for anyone moving to other large city in US, EU or Asia. The same methodology can be applied in accordance to demands as applicable. This case is also applicable for anyone interested in exploring starting or locating a new business in any city. Lastly, it can also serve as a good practical exercise to develop Data Science skills.\n"
   ]
  },
  {
   "cell_type": "code",
   "execution_count": 20,
   "metadata": {},
   "outputs": [],
   "source": [
    "# A description of the data and how it will be used to solve the problem. (15 marks)"
   ]
  },
  {
   "cell_type": "markdown",
   "metadata": {},
   "source": [
    "# 2. Data Section:¶\n",
    "### Description of the data and its sources that will be used to solve the problem"
   ]
  },
  {
   "cell_type": "markdown",
   "metadata": {},
   "source": [
    "### Description of the Data:¶\n",
    "\n",
    "The following data is required to  answer the issues of the problem:\n",
    "\n",
    "- List of Boroughs and neighborhoods of Manhattan with their geodata (latitud and longitud) \n",
    "- List of Subway metro stations in Manhattan with their address location \n",
    "- List of apartments for rent in Manhattan area with their addresses and price\n",
    "- Preferably, a list of apartment for rent with additional information, such as price, address, area, # of beds, etc\n",
    "- Venues for each Manhattan neighborhood ( than can be clustered)\n",
    "- Venues for subway metro stations, as needed\n",
    "\n",
    "\n",
    "### How the data will be used to solve the problem\n",
    "\n",
    "The data will be used as follows:\n",
    "- Use Foursquare and geopy data to map top 10 venues for all Manhattan neighborhoods and clustered in groups ( as per Course LAB)\n",
    "- Use foursquare and geopy data to map the location of subway metro stations , separately and on top of the above clustered map in order to be able to identify the venues and ammenities near each metro station, or explore each subway location separately\n",
    "- Use Foursquare and geopy data to map the location of rental places, in some form, linked to the subway locations.\n",
    "- create a map that depicts, for instance, the average rental price per square ft, around a radious of 1.0 mile (1.6 km) around each subway station - or a similar metrics. I will be able to quickly point to the popups to know the relative price per subway area.\n",
    "- Addresses from rental locations will be converted to geodata( lat, long) using Geopy-distance and Nominatim.\n",
    "- Data will be searched in open data sources if available, from real estate sites if open to reading, libraries or other government agencies such as Metro New York MTA, etc.\n",
    "\n",
    "\n",
    "The procesing of these DATA will allow to answer the key questions to make a decision:\n",
    "- what is the cost of rent (per square ft) around a mile radius from each subway metro station?\n",
    "- what is the area of Manhattan with best rental pricing that meets criteria established?\n",
    "- What is the distance from work place ( Park Ave and 53 rd St) and the tentative future home?\n",
    "- What are the venues of the two best places to live? How the prices compare?\n",
    "- How venues distribute among Manhattan neighborhoods and around metro stations?\n",
    "- Are there tradeoffs between size and price and location?\n",
    "- Any other interesting statistical data findings of the real estate and overall data.\n",
    "\n"
   ]
  },
  {
   "cell_type": "markdown",
   "metadata": {},
   "source": [
    "### Reference of venues around current residence in India for comparison to Manhattan place"
   ]
  },
  {
   "cell_type": "code",
   "execution_count": 2,
   "metadata": {},
   "outputs": [
    {
     "name": "stdout",
     "output_type": "stream",
     "text": [
      "The geograpical coordinate of Bangalore home are 12.9741854, 77.6124135.\n"
     ]
    }
   ],
   "source": [
    "address = 'MG Road, Bangalore'\n",
    "\n",
    "geolocator = Nominatim()\n",
    "location = geolocator.geocode(address)\n",
    "latitude = location.latitude\n",
    "longitude = location.longitude\n",
    "print('The geograpical coordinate of Bangalore home are {}, {}.'.format(latitude, longitude))"
   ]
  },
  {
   "cell_type": "code",
   "execution_count": 3,
   "metadata": {},
   "outputs": [],
   "source": [
    "neighborhood_latitude=12.9741854\n",
    "neighborhood_longitude=77.6124135"
   ]
  },
  {
   "cell_type": "code",
   "execution_count": 4,
   "metadata": {},
   "outputs": [],
   "source": [
    "CLIENT_ID='ENK1ML0LUPURGPBWNIG5BKBTICO42RZWDOXFLT2AIB2AF14I'\n",
    "CLIENT_SECRET='Q4JQG5FJZBJWC1JS35NVO524KVUCK24320VAQFBC5HVNQQSQ'\n",
    "version='20180605'"
   ]
  },
  {
   "cell_type": "code",
   "execution_count": 6,
   "metadata": {},
   "outputs": [
    {
     "data": {
      "text/plain": [
       "'https://api.foursquare.com/v2/venues/explore?&client_id=ENK1ML0LUPURGPBWNIG5BKBTICO42RZWDOXFLT2AIB2AF14I&client_secret=Q4JQG5FJZBJWC1JS35NVO524KVUCK24320VAQFBC5HVNQQSQ&v=20180605&ll=12.9741854,77.6124135&radius=500&limit=100'"
      ]
     },
     "execution_count": 6,
     "metadata": {},
     "output_type": "execute_result"
    }
   ],
   "source": [
    "\n",
    "LIMIT = 100 # limit of number of venues returned by Foursquare API\n",
    "radius = 500 # define radius\n",
    "\n",
    "# create URL\n",
    "url = 'https://api.foursquare.com/v2/venues/explore?&client_id={}&client_secret={}&v={}&ll={},{}&radius={}&limit={}'.format(\n",
    "    CLIENT_ID, \n",
    "    CLIENT_SECRET, \n",
    "    version, \n",
    "    neighborhood_latitude, \n",
    "    neighborhood_longitude, \n",
    "    radius, \n",
    "    LIMIT)\n",
    "url # display URL"
   ]
  },
  {
   "cell_type": "code",
   "execution_count": 7,
   "metadata": {},
   "outputs": [],
   "source": [
    "results = requests.get(url).json()\n",
    "#results"
   ]
  },
  {
   "cell_type": "code",
   "execution_count": 8,
   "metadata": {},
   "outputs": [],
   "source": [
    "# function that extracts the category of the venue\n",
    "def get_category_type(row):\n",
    "    try:\n",
    "        categories_list = row['categories']\n",
    "    except:\n",
    "        categories_list = row['venue.categories']\n",
    "        \n",
    "    if len(categories_list) == 0:\n",
    "        return None\n",
    "    else:\n",
    "        return categories_list[0]['name']"
   ]
  },
  {
   "cell_type": "code",
   "execution_count": 9,
   "metadata": {},
   "outputs": [
    {
     "data": {
      "text/html": [
       "<div>\n",
       "<style scoped>\n",
       "    .dataframe tbody tr th:only-of-type {\n",
       "        vertical-align: middle;\n",
       "    }\n",
       "\n",
       "    .dataframe tbody tr th {\n",
       "        vertical-align: top;\n",
       "    }\n",
       "\n",
       "    .dataframe thead th {\n",
       "        text-align: right;\n",
       "    }\n",
       "</style>\n",
       "<table border=\"1\" class=\"dataframe\">\n",
       "  <thead>\n",
       "    <tr style=\"text-align: right;\">\n",
       "      <th></th>\n",
       "      <th>name</th>\n",
       "      <th>categories</th>\n",
       "      <th>lat</th>\n",
       "      <th>lng</th>\n",
       "    </tr>\n",
       "  </thead>\n",
       "  <tbody>\n",
       "    <tr>\n",
       "      <th>0</th>\n",
       "      <td>Nagarjuna</td>\n",
       "      <td>Andhra Restaurant</td>\n",
       "      <td>12.973145</td>\n",
       "      <td>77.609263</td>\n",
       "    </tr>\n",
       "    <tr>\n",
       "      <th>1</th>\n",
       "      <td>Chung Wah</td>\n",
       "      <td>Chinese Restaurant</td>\n",
       "      <td>12.974099</td>\n",
       "      <td>77.609386</td>\n",
       "    </tr>\n",
       "    <tr>\n",
       "      <th>2</th>\n",
       "      <td>Arbor Brewing Company</td>\n",
       "      <td>Brewery</td>\n",
       "      <td>12.970140</td>\n",
       "      <td>77.610857</td>\n",
       "    </tr>\n",
       "    <tr>\n",
       "      <th>3</th>\n",
       "      <td>Art of Delight</td>\n",
       "      <td>Ice Cream Shop</td>\n",
       "      <td>12.973198</td>\n",
       "      <td>77.609254</td>\n",
       "    </tr>\n",
       "    <tr>\n",
       "      <th>4</th>\n",
       "      <td>Corner House</td>\n",
       "      <td>Dessert Shop</td>\n",
       "      <td>12.973650</td>\n",
       "      <td>77.609362</td>\n",
       "    </tr>\n",
       "    <tr>\n",
       "      <th>5</th>\n",
       "      <td>Tandoor</td>\n",
       "      <td>Indian Restaurant</td>\n",
       "      <td>12.973819</td>\n",
       "      <td>77.613247</td>\n",
       "    </tr>\n",
       "    <tr>\n",
       "      <th>6</th>\n",
       "      <td>Karavalli</td>\n",
       "      <td>Indian Restaurant</td>\n",
       "      <td>12.971937</td>\n",
       "      <td>77.608869</td>\n",
       "    </tr>\n",
       "    <tr>\n",
       "      <th>7</th>\n",
       "      <td>The Permit Room</td>\n",
       "      <td>Pub</td>\n",
       "      <td>12.970388</td>\n",
       "      <td>77.610358</td>\n",
       "    </tr>\n",
       "    <tr>\n",
       "      <th>8</th>\n",
       "      <td>Green Onion Chinese Restaurant</td>\n",
       "      <td>Chinese Restaurant</td>\n",
       "      <td>12.973165</td>\n",
       "      <td>77.609159</td>\n",
       "    </tr>\n",
       "    <tr>\n",
       "      <th>9</th>\n",
       "      <td>Meghanas Biriyani</td>\n",
       "      <td>Indian Restaurant</td>\n",
       "      <td>12.973045</td>\n",
       "      <td>77.609163</td>\n",
       "    </tr>\n",
       "  </tbody>\n",
       "</table>\n",
       "</div>"
      ],
      "text/plain": [
       "                             name          categories        lat        lng\n",
       "0                       Nagarjuna   Andhra Restaurant  12.973145  77.609263\n",
       "1                       Chung Wah  Chinese Restaurant  12.974099  77.609386\n",
       "2           Arbor Brewing Company             Brewery  12.970140  77.610857\n",
       "3                  Art of Delight      Ice Cream Shop  12.973198  77.609254\n",
       "4                    Corner House        Dessert Shop  12.973650  77.609362\n",
       "5                         Tandoor   Indian Restaurant  12.973819  77.613247\n",
       "6                       Karavalli   Indian Restaurant  12.971937  77.608869\n",
       "7                 The Permit Room                 Pub  12.970388  77.610358\n",
       "8  Green Onion Chinese Restaurant  Chinese Restaurant  12.973165  77.609159\n",
       "9               Meghanas Biriyani   Indian Restaurant  12.973045  77.609163"
      ]
     },
     "execution_count": 9,
     "metadata": {},
     "output_type": "execute_result"
    }
   ],
   "source": [
    "venues = results['response']['groups'][0]['items']\n",
    "    \n",
    "SGnearby_venues = json_normalize(venues) # flatten JSON\n",
    "\n",
    "# filter columns\n",
    "filtered_columns = ['venue.name', 'venue.categories', 'venue.location.lat', 'venue.location.lng']\n",
    "SGnearby_venues =SGnearby_venues.loc[:, filtered_columns]\n",
    "\n",
    "# filter the category for each row\n",
    "SGnearby_venues['venue.categories'] = SGnearby_venues.apply(get_category_type, axis=1)\n",
    "\n",
    "# clean columns\n",
    "SGnearby_venues.columns = [col.split(\".\")[-1] for col in SGnearby_venues.columns]\n",
    "\n",
    "SGnearby_venues.head(10)"
   ]
  },
  {
   "cell_type": "markdown",
   "metadata": {},
   "source": [
    "## Map of Bangalore with venues near residence place - for reference "
   ]
  },
  {
   "cell_type": "code",
   "execution_count": 10,
   "metadata": {},
   "outputs": [
    {
     "data": {
      "text/html": [
       "<div style=\"width:100%;\"><div style=\"position:relative;width:100%;height:0;padding-bottom:60%;\"><iframe src=\"data:text/html;charset=utf-8;base64,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\" style=\"position:absolute;width:100%;height:100%;left:0;top:0;border:none !important;\" allowfullscreen webkitallowfullscreen mozallowfullscreen></iframe></div></div>"
      ],
      "text/plain": [
       "<folium.folium.Map at 0x7f930a2136a0>"
      ]
     },
     "execution_count": 10,
     "metadata": {},
     "output_type": "execute_result"
    }
   ],
   "source": [
    "# create map of Bangalore place  using latitude and longitude values\n",
    "map_sg = folium.Map(location=[latitude, longitude], zoom_start=20)\n",
    "\n",
    "# add markers to map\n",
    "for lat, lng, label in zip(SGnearby_venues['lat'], SGnearby_venues['lng'], SGnearby_venues['name']):\n",
    "    label = folium.Popup(label, parse_html=True)\n",
    "    folium.RegularPolygonMarker(\n",
    "        [lat, lng],\n",
    "        number_of_sides=4,\n",
    "        radius=10,\n",
    "        popup=label,\n",
    "        color='blue',\n",
    "        fill_color='#0f0f0f',\n",
    "        fill_opacity=0.7,\n",
    "    ).add_to(map_sg)  \n",
    "    \n",
    "map_sg"
   ]
  }
 ],
 "metadata": {
  "kernelspec": {
   "display_name": "Python 3",
   "language": "python",
   "name": "python3"
  },
  "language_info": {
   "codemirror_mode": {
    "name": "ipython",
    "version": 3
   },
   "file_extension": ".py",
   "mimetype": "text/x-python",
   "name": "python",
   "nbconvert_exporter": "python",
   "pygments_lexer": "ipython3",
   "version": "3.6.8"
  }
 },
 "nbformat": 4,
 "nbformat_minor": 2
}
